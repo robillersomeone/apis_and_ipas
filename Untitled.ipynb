{
 "cells": [
  {
   "cell_type": "code",
   "execution_count": 1,
   "metadata": {},
   "outputs": [
    {
     "name": "stdout",
     "output_type": "stream",
     "text": [
      "2018-11-18 20:15:46,936 INFO sqlalchemy.engine.base.Engine SELECT CAST('test plain returns' AS VARCHAR(60)) AS anon_1\n",
      "2018-11-18 20:15:46,937 INFO sqlalchemy.engine.base.Engine ()\n",
      "2018-11-18 20:15:46,938 INFO sqlalchemy.engine.base.Engine SELECT CAST('test unicode returns' AS VARCHAR(60)) AS anon_1\n",
      "2018-11-18 20:15:46,939 INFO sqlalchemy.engine.base.Engine ()\n",
      "2018-11-18 20:15:46,940 INFO sqlalchemy.engine.base.Engine BEGIN (implicit)\n",
      "2018-11-18 20:15:46,941 INFO sqlalchemy.engine.base.Engine SELECT styles.\"shortName\" AS \"styles_shortName\" \n",
      "FROM styles\n",
      "2018-11-18 20:15:46,941 INFO sqlalchemy.engine.base.Engine ()\n",
      "2018-11-18 20:15:46,951 INFO sqlalchemy.engine.base.Engine SELECT styles.description AS styles_description \n",
      "FROM styles \n",
      "WHERE styles.\"shortName\" = ?\n",
      " LIMIT ? OFFSET ?\n",
      "2018-11-18 20:15:46,952 INFO sqlalchemy.engine.base.Engine ('Saison', 1, 0)\n",
      "2018-11-18 20:15:46,954 INFO sqlalchemy.engine.base.Engine SELECT styles.\"shortName\" AS \"styles_shortName\" \n",
      "FROM styles \n",
      "WHERE styles.\"shortName\" = ?\n",
      " LIMIT ? OFFSET ?\n",
      "2018-11-18 20:15:46,955 INFO sqlalchemy.engine.base.Engine ('Saison', 1, 0)\n",
      "2018-11-18 20:15:46,965 INFO sqlalchemy.engine.base.Engine SELECT beers.id AS beers_id, beers.beercode AS beers_beercode, beers.name AS beers_name, beers.\"nameDisplay\" AS \"beers_nameDisplay\", beers.description AS beers_description, beers.abv AS beers_abv, beers.ibu AS beers_ibu, beers.\"isOrganic\" AS \"beers_isOrganic\", beers.\"foodPairings\" AS \"beers_foodPairings\", beers.style AS beers_style, beers.style_id AS beers_style_id \n",
      "FROM beers JOIN styles ON styles.id = beers.style_id \n",
      "WHERE styles.\"shortName\" = ?\n",
      "2018-11-18 20:15:46,965 INFO sqlalchemy.engine.base.Engine ('Saison',)\n",
      "2018-11-18 20:15:46,974 INFO sqlalchemy.engine.base.Engine SELECT beers.description AS beers_description \n",
      "FROM beers JOIN styles ON styles.id = beers.style_id \n",
      "WHERE styles.\"shortName\" = ? AND beers.description IS NOT NULL\n",
      "2018-11-18 20:15:46,975 INFO sqlalchemy.engine.base.Engine ('Saison',)\n",
      "2018-11-18 20:15:46,987 INFO sqlalchemy.engine.base.Engine SELECT beers.description AS beers_description \n",
      "FROM beers JOIN styles ON styles.id = beers.style_id \n",
      "WHERE styles.\"shortName\" = ? AND beers.description IS NOT NULL\n",
      "2018-11-18 20:15:46,988 INFO sqlalchemy.engine.base.Engine ('Saison',)\n",
      "2018-11-18 20:15:46,998 INFO sqlalchemy.engine.base.Engine SELECT styles.\"shortName\" AS \"styles_shortName\" \n",
      "FROM styles \n",
      "WHERE styles.\"shortName\" = ?\n",
      " LIMIT ? OFFSET ?\n",
      "2018-11-18 20:15:46,999 INFO sqlalchemy.engine.base.Engine ('Saison', 1, 0)\n",
      "2018-11-18 20:15:47,002 INFO sqlalchemy.engine.base.Engine SELECT beers.name AS beers_name, beers.\"foodPairings\" AS \"beers_foodPairings\" \n",
      "FROM beers JOIN styles ON styles.id = beers.style_id \n",
      "WHERE styles.\"shortName\" = ? AND beers.\"foodPairings\" IS NOT NULL\n",
      "2018-11-18 20:15:47,003 INFO sqlalchemy.engine.base.Engine ('Saison',)\n",
      "2018-11-18 20:15:47,006 INFO sqlalchemy.engine.base.Engine SELECT beers.name AS beers_name, beers.\"foodPairings\" AS \"beers_foodPairings\" \n",
      "FROM beers JOIN styles ON styles.id = beers.style_id \n",
      "WHERE styles.\"shortName\" = ? AND beers.\"foodPairings\" IS NOT NULL\n",
      "2018-11-18 20:15:47,008 INFO sqlalchemy.engine.base.Engine ('Saison',)\n",
      "2018-11-18 20:15:47,014 INFO sqlalchemy.engine.base.Engine SELECT beers.name AS beers_name, beers.abv AS beers_abv \n",
      "FROM beers JOIN styles ON styles.id = beers.style_id \n",
      "WHERE styles.\"shortName\" = ? AND beers.abv IS NOT NULL AND beers.ibu IS NOT NULL\n",
      "2018-11-18 20:15:47,014 INFO sqlalchemy.engine.base.Engine ('Saison',)\n",
      "2018-11-18 20:15:47,017 INFO sqlalchemy.engine.base.Engine SELECT beers.name AS beers_name, beers.ibu AS beers_ibu \n",
      "FROM beers JOIN styles ON styles.id = beers.style_id \n",
      "WHERE styles.\"shortName\" = ? AND beers.ibu IS NOT NULL AND beers.abv IS NOT NULL\n",
      "2018-11-18 20:15:47,018 INFO sqlalchemy.engine.base.Engine ('Saison',)\n",
      "2018-11-18 20:15:47,022 INFO sqlalchemy.engine.base.Engine SELECT styles.\"abvMin\" AS \"styles_abvMin\", styles.\"abvMax\" AS \"styles_abvMax\" \n",
      "FROM styles \n",
      "WHERE styles.\"shortName\" = ?\n",
      "2018-11-18 20:15:47,023 INFO sqlalchemy.engine.base.Engine ('Saison',)\n",
      "2018-11-18 20:15:47,029 INFO sqlalchemy.engine.base.Engine SELECT beers.abv AS beers_abv \n",
      "FROM beers JOIN styles ON styles.id = beers.style_id \n",
      "WHERE styles.\"shortName\" = ?\n",
      "2018-11-18 20:15:47,030 INFO sqlalchemy.engine.base.Engine ('Saison',)\n"
     ]
    }
   ],
   "source": [
    "from dash_package import *"
   ]
  },
  {
   "cell_type": "code",
   "execution_count": 71,
   "metadata": {},
   "outputs": [
    {
     "name": "stdout",
     "output_type": "stream",
     "text": [
      "2018-11-17 17:12:29,005 INFO sqlalchemy.engine.base.Engine SELECT beers.name AS beers_name, beers.\"foodPairings\" AS \"beers_foodPairings\" \n",
      "FROM beers JOIN styles ON styles.id = beers.style_id \n",
      "WHERE styles.\"shortName\" = ? AND beers.\"foodPairings\" IS NOT NULL\n",
      "2018-11-17 17:12:29,006 INFO sqlalchemy.engine.base.Engine ('American IPA',)\n"
     ]
    },
    {
     "data": {
      "text/plain": [
       "{'beer name': '#429 Red IPA', 'food pairing': 'Curry, wings, blue cheese'}"
      ]
     },
     "execution_count": 71,
     "metadata": {},
     "output_type": "execute_result"
    }
   ],
   "source": [
    "def style_foodpairings(shortname):\n",
    "    list_of_descriptions = db.session.query(Beer.name, Beer.foodPairings).join(Style).filter(Style.shortName == shortname).filter(Beer.foodPairings != None).all()\n",
    "    pairing_list = []\n",
    "    for beer in list_of_descriptions:\n",
    "        pairing = {\"beer name\" : beer[0], \"food pairing\": beer[1].replace(\"\\r\\n\", \" \")}\n",
    "        pairing_list.append(pairing) \n",
    "    return pairing_list\n",
    "style_foodpairings(\"American IPA\")[0]\n"
   ]
  },
  {
   "cell_type": "code",
   "execution_count": 82,
   "metadata": {},
   "outputs": [
    {
     "name": "stdout",
     "output_type": "stream",
     "text": [
      "2018-11-17 17:23:02,673 INFO sqlalchemy.engine.base.Engine SELECT styles.\"shortName\" AS \"styles_shortName\" \n",
      "FROM styles \n",
      "WHERE styles.\"shortName\" = ?\n",
      " LIMIT ? OFFSET ?\n",
      "2018-11-17 17:23:02,675 INFO sqlalchemy.engine.base.Engine ('American IPA', 1, 0)\n"
     ]
    },
    {
     "data": {
      "text/plain": [
       "'American IPA'"
      ]
     },
     "execution_count": 82,
     "metadata": {},
     "output_type": "execute_result"
    }
   ],
   "source": [
    "def style_name(shortname):\n",
    "    name = db.session.query(Style.shortName).filter(Style.shortName == shortname).first()\n",
    "    return name[0]\n",
    "\n",
    "style_name(\"American IPA\")"
   ]
  },
  {
   "cell_type": "code",
   "execution_count": 44,
   "metadata": {},
   "outputs": [
    {
     "name": "stdout",
     "output_type": "stream",
     "text": [
      "2018-11-17 16:41:29,871 INFO sqlalchemy.engine.base.Engine SELECT ingredients.name AS ingredients_name \n",
      "FROM ingredients\n",
      "2018-11-17 16:41:29,872 INFO sqlalchemy.engine.base.Engine ()\n"
     ]
    },
    {
     "data": {
      "text/plain": [
       "[('#06300'),\n",
       " ('10th Anniversary Blend'),\n",
       " ('Abbey Ale'),\n",
       " ('Abbey Malt'),\n",
       " ('Acid Blend'),\n",
       " ('Acidulated Malt'),\n",
       " ('Admiral'),\n",
       " ('Agardhs Red Weed Gel'),\n",
       " ('Agardhs Red Weed Powder'),\n",
       " ('Agave Sweetener'),\n",
       " ('Aged / Debittered Hops (Lambic)'),\n",
       " ('Ahtanum'),\n",
       " ('Alchemy'),\n",
       " ('Alehoof'),\n",
       " (\"Alexander's Muscat Grape Juice\"),\n",
       " ('Allspice'),\n",
       " ('Almond'),\n",
       " ('Almond Extract'),\n",
       " ('Amarillo'),\n",
       " ('Amarillo Gold'),\n",
       " ('Amber Malt'),\n",
       " ('Amchoor Powder'),\n",
       " ('American Ale'),\n",
       " ('American Ale Blend'),\n",
       " ('American Ale II'),\n",
       " ('American Hefeweizen Ale'),\n",
       " ('American Lager'),\n",
       " ('American Megabrewery'),\n",
       " ('American Microbrewery Ale No.1'),\n",
       " ('American Microbrewery Ale No.2'),\n",
       " ('American Microbrewery Lager'),\n",
       " ('American Wheat Ale'),\n",
       " ('American White Ale'),\n",
       " ('Amphora'),\n",
       " ('Amylase Enzyme'),\n",
       " ('Amyloglucosidase Enzyme'),\n",
       " ('Anaheim Peppers'),\n",
       " ('Ancho Chili'),\n",
       " ('Ancho Chili Tea'),\n",
       " ('Ancho Powder'),\n",
       " ('Angelica'),\n",
       " ('Anise Seed'),\n",
       " ('Anise, Star'),\n",
       " ('Anise, Whole Stars'),\n",
       " ('Anti-Foam, Dow Corning FG-10'),\n",
       " ('Apollo'),\n",
       " ('apple brandy barrel'),\n",
       " ('Apple Cider'),\n",
       " ('Apple Extract'),\n",
       " ('Apple Fruit Flavoring'),\n",
       " ('Apple Jacks Cereal'),\n",
       " ('Apple Juice'),\n",
       " ('Apple Juice Concentrate'),\n",
       " ('Apple Puree'),\n",
       " ('Apples, dried'),\n",
       " ('Apples, fresh'),\n",
       " ('Apples, Granny Smith'),\n",
       " ('Applewood Chips'),\n",
       " ('Apricot Extract'),\n",
       " ('Apricot Fruit Flavoring'),\n",
       " ('Apricot Puree'),\n",
       " ('Apricots, dried'),\n",
       " ('Apricots, fresh'),\n",
       " ('Aquila'),\n",
       " ('Aramis'),\n",
       " ('Argentine Cascade'),\n",
       " ('Aromatic Malt'),\n",
       " ('Ascorbic Acid'),\n",
       " ('Asheburne Mild Malt'),\n",
       " ('Asian Pear'),\n",
       " ('Asparagus'),\n",
       " ('Athanum'),\n",
       " ('Attenuation 80 percent'),\n",
       " ('Aurora'),\n",
       " ('Auscha (Saaz)'),\n",
       " ('Bacon Infused Bourbon'),\n",
       " ('Bacon, cooked'),\n",
       " ('Bacon, dried/cured'),\n",
       " ('Baking Soda'),\n",
       " ('Balinese Long Pepper'),\n",
       " ('Bamberg Smoked Malt'),\n",
       " ('Banana'),\n",
       " ('Banana Extract'),\n",
       " ('Banner'),\n",
       " ('Barley - Black'),\n",
       " ('Barley - Flaked'),\n",
       " ('Barley - Hulls'),\n",
       " ('Barley - Lightly Roasted'),\n",
       " ('Barley - Malted'),\n",
       " ('Barley - Raw'),\n",
       " ('Barley - Roasted'),\n",
       " ('Barley - Roasted/De-husked'),\n",
       " ('Barley - Torrefied'),\n",
       " ('Basil, Sweet'),\n",
       " ('Basil, Thai'),\n",
       " ('Bastogne Belgian Ale'),\n",
       " ('Bavarian Lager'),\n",
       " ('Bavarian Wheat'),\n",
       " ('Bavarian Wheat Yeast'),\n",
       " ('Bay Leaf'),\n",
       " ('Beach Plums'),\n",
       " ('Beano Tablet'),\n",
       " ('Bedford British Ale'),\n",
       " ('Bee Balm (Monarda )'),\n",
       " ('Bee Pollen'),\n",
       " ('Beech Chips'),\n",
       " ('Beechwood Smoked'),\n",
       " ('Beef Bouillon'),\n",
       " ('Beer, Bottle Dregs'),\n",
       " ('Beets'),\n",
       " ('Belgian Abbey II'),\n",
       " ('Belgian Ale'),\n",
       " ('Belgian Ale No.1'),\n",
       " ('Belgian Ale No.2'),\n",
       " ('Belgian Ale No.3'),\n",
       " ('Belgian Ardennes'),\n",
       " ('Belgian Candi Sugar'),\n",
       " ('Belgian Golden Ale'),\n",
       " ('Belgian Lambic Blend'),\n",
       " ('Belgian Saison I Ale'),\n",
       " ('Belgian Saison Yeast'),\n",
       " ('Belgian Schelde Ale Yeast'),\n",
       " ('Belgian Strong Ale'),\n",
       " ('Belgian Style Ale Yeast Blend'),\n",
       " ('Belgian Wheat'),\n",
       " ('Belgian Wheat Yeast'),\n",
       " ('Belgian Wit Ale'),\n",
       " ('Belgian Wit II'),\n",
       " ('Belgian Witbier'),\n",
       " (\"Bell's Oberon\"),\n",
       " ('Bentonite'),\n",
       " ('Bergamot Orange Peel'),\n",
       " ('Biere De Garde'),\n",
       " ('Bilberry'),\n",
       " ('Biscuit Malt'),\n",
       " ('Black Cardamom'),\n",
       " ('Black Cherry'),\n",
       " ('Black Cherry Bourbon (Jim Beam)'),\n",
       " ('Black Cherry Extract'),\n",
       " ('Black Currant Extract'),\n",
       " ('Black Malt'),\n",
       " ('Black Malt - Debittered'),\n",
       " ('Black Malt - Organic'),\n",
       " ('Black Mamba Hot Sauce'),\n",
       " ('Black Patent'),\n",
       " ('Black Peppercorn'),\n",
       " ('Black Roast'),\n",
       " ('Black Treacle'),\n",
       " ('Black Vodka - Blavod'),\n",
       " ('Black Walnuts')]"
      ]
     },
     "execution_count": 44,
     "metadata": {},
     "output_type": "execute_result"
    }
   ],
   "source": [
    "db.session.query(Ingredient.name).all()"
   ]
  },
  {
   "cell_type": "code",
   "execution_count": 146,
   "metadata": {},
   "outputs": [
    {
     "name": "stdout",
     "output_type": "stream",
     "text": [
      "2018-11-17 19:48:52,606 INFO sqlalchemy.engine.base.Engine SELECT beers.name AS beers_name, beers.\"foodPairings\" AS \"beers_foodPairings\" \n",
      "FROM beers JOIN styles ON styles.id = beers.style_id \n",
      "WHERE styles.\"shortName\" = ? AND beers.\"foodPairings\" IS NOT NULL\n",
      "2018-11-17 19:48:52,607 INFO sqlalchemy.engine.base.Engine ('American IPA',)\n"
     ]
    },
    {
     "data": {
      "text/plain": [
       "'#429 Red IPA goes with Curry, wings, blue cheese\\n18th Anniversary Ale goes with Blistered shishito peppers, grilled prosciutto-wrapped shrimp, sweet potato fries with roasted garlic aioli, fried pork wontons.\\n2013 Holiday IPA goes with Turkey and Duck\\n2017 Beer Camp goes with Grilled Fish, Blackened Chicken\\r\\nSharp Goat Cheese\\r\\nLemon Sorbet\\n2XONE goes with Roasted chicken, smoked brisket, sharp and blue cheeses, very sweet desserts like crème brûlée and caramels\\n31 Kings goes with This immensely popular style will pair will balance out sweet or fatty foods like burgers, or some spicier cuisine such as Curry. Buffalo wings, blackened chicken, and fried seafood, go very well with the bitterness of IPA. Gorgonzola or Cambozola are fantastic cheeses to pair with IPA’s.  Try some Caramel apple tart, ginger spice cake, or persimmon rice pudding.\\n4 Front IPA goes with Chicken Caesar salad, avocado chicken salad sandwich, fish and chips.\\n40 Years Gone goes with IPAs love strong flavors.  This will be fantastic with smoked meats, veggies and cheeses.  If you’re dining at the pub we suggest it with our famous Arburger, roasted garlic, or sweet potato boxty stack.\\n60 Minute IPA goes with Spicy foods, pesto, grilled salmon, soy-based dishes, pizza, vintage cheddar\\n680 IPA goes with Pizza, Tikka Masala, Spicy Foods, Gingerbread/Ginger Cake/Spice Cake\\n7 Hop goes with Beef, Hot & Spicy\\n75 Minute IPA goes with Burgers, grilled meats, avocado\\nAccidental IPA goes with Enjoy this beer with a wide variety of foods.\\nAgaveras Agave IPA goes with Queso fundido, papas con rajas, tequila lime shrimp, duck confit tacos, mango flan.\\nAlter Ego goes with Charcuterie\\r\\nRotisserie Chicken\\nAmerican IPA goes with While it is classically paired with a curry dish, our favorite is with a big bowl of spicy Texas chili (hold the beans, please).\\nAnonymous IPA goes with Pairs with: meats, cheeses, burgers, spicy foods, sweet desserts\\nAprihop goes with Salads, swordfish, Mexican dishes, barbeque, hummus\\nArtificial Intelligence goes with Charcuterie Platter, Country Fried Chicken Sandwich, Stuffed Chicken Sandwich, Juevo Ranchero Burger, Salmon Sandwich.\\nASAP IPA goes with Poultry dishes with spice, salt, or cream, and the caramel malts partner well with rich cuts of rib-eye.\\nAussie Hazy IPA goes with Barbecued chicken, Salmon spinach salad, apricot jam'"
      ]
     },
     "execution_count": 146,
     "metadata": {},
     "output_type": "execute_result"
    }
   ],
   "source": [
    "def style_foodpairings(shortname):\n",
    "    list_of_descriptions = db.session.query(Beer.name, Beer.foodPairings).join(Style).filter(Style.shortName == shortname).filter(Beer.foodPairings != None).all()\n",
    "    pairing_list = []\n",
    "    for beer in list_of_descriptions:\n",
    "        pairing = f\"{beer[0]} goes with {beer[1]}\"\n",
    "        #pairing = {\"beer name\" : beer[0], \"food pairing\": beer[1].replace(\"\\r\\n\", \" \")}\n",
    "        pairing_list.append(pairing)\n",
    "    return \"\\n\".join(x for x in pairing_list)\n",
    "\n",
    "\n",
    "style_foodpairings(\"American IPA\")"
   ]
  },
  {
   "cell_type": "code",
   "execution_count": 3,
   "metadata": {},
   "outputs": [
    {
     "name": "stdout",
     "output_type": "stream",
     "text": [
      "2018-11-18 20:16:09,825 INFO sqlalchemy.engine.base.Engine SELECT beers.id = beer_ingredients_1.beer_id AND ingredients.id = beer_ingredients_1.ingredient_id AS ingredients \n",
      "FROM beers, beer_ingredients AS beer_ingredients_1, ingredients \n",
      "WHERE beers.name = ?\n",
      "2018-11-18 20:16:09,826 INFO sqlalchemy.engine.base.Engine ('15th Anniversary Ale',)\n"
     ]
    },
    {
     "data": {
      "text/plain": [
       "[]"
      ]
     },
     "execution_count": 3,
     "metadata": {},
     "output_type": "execute_result"
    }
   ],
   "source": [
    "#db.session.query(Beer.name, Ingredient.name).join(BeerIngredients).filter(Beer.name == \"75 Minute IPA\").all()\n",
    "\n",
    "# [x.name for x in db.session.query(Beer.ingredients).filter(Beer.name == \"75 Minute IPA\").first()]\n",
    "\n",
    "db.session.query(Beer.ingredients).filter(Beer.name == \"15th Anniversary Ale\").all()\n"
   ]
  },
  {
   "cell_type": "code",
   "execution_count": 11,
   "metadata": {},
   "outputs": [
    {
     "name": "stdout",
     "output_type": "stream",
     "text": [
      "2018-11-18 20:17:50,764 INFO sqlalchemy.engine.base.Engine SELECT beers.id AS beers_id, beers.beercode AS beers_beercode, beers.name AS beers_name, beers.\"nameDisplay\" AS \"beers_nameDisplay\", beers.description AS beers_description, beers.abv AS beers_abv, beers.ibu AS beers_ibu, beers.\"isOrganic\" AS \"beers_isOrganic\", beers.\"foodPairings\" AS \"beers_foodPairings\", beers.style AS beers_style, beers.style_id AS beers_style_id \n",
      "FROM beers \n",
      "WHERE beers.name = ?\n",
      " LIMIT ? OFFSET ?\n",
      "2018-11-18 20:17:50,765 INFO sqlalchemy.engine.base.Engine ('15th Anniversary Ale', 1, 0)\n"
     ]
    },
    {
     "data": {
      "text/plain": [
       "{'_sa_instance_state': <sqlalchemy.orm.state.InstanceState at 0x1a2254e198>,\n",
       " 'nameDisplay': None,\n",
       " 'beercode': 'xwYSL2',\n",
       " 'style_id': 5,\n",
       " 'foodPairings': None,\n",
       " 'ibu': None,\n",
       " 'description': 'For the ﬁrst ever SweetWater anniversary beer (yeah it took us 15 years), we went back to our roots, dusted off our original ESB recipe, and gave it a big ol’ bump. The recipe consists of 7 malts, one of which Kevin toasted personally in his toaster oven, just like the old days, and 5 different styles of hops. In true SweetWater style, there is no style, but it’s big, bold, and meant to grow old, meaning this beer will be fantastic out of the gate, or you can lay her down in the cellar for many years to come.',\n",
       " 'name': '15th Anniversary Ale',\n",
       " 'id': 1653,\n",
       " 'style': 'Extra Special Bitter',\n",
       " 'isOrganic': 'N',\n",
       " 'abv': None}"
      ]
     },
     "execution_count": 11,
     "metadata": {},
     "output_type": "execute_result"
    }
   ],
   "source": [
    "beer = db.session.query(Beer).filter(Beer.name == \"15th Anniversary Ale\").first()\n",
    "vars(beer)"
   ]
  },
  {
   "cell_type": "code",
   "execution_count": 14,
   "metadata": {},
   "outputs": [
    {
     "name": "stdout",
     "output_type": "stream",
     "text": [
      "2018-11-18 20:18:43,208 INFO sqlalchemy.engine.base.Engine SELECT ingredients.name AS ingredients_name \n",
      "FROM ingredients\n",
      "2018-11-18 20:18:43,209 INFO sqlalchemy.engine.base.Engine ()\n",
      "2018-11-18 20:18:43,214 INFO sqlalchemy.engine.base.Engine SELECT ingredients.id AS ingredients_id, ingredients.ingredientcode AS ingredients_ingredientcode, ingredients.name AS ingredients_name, ingredients.category AS ingredients_category, ingredients.\"categoryDisplay\" AS \"ingredients_categoryDisplay\" \n",
      "FROM ingredients \n",
      "WHERE ingredients.name = ?\n",
      " LIMIT ? OFFSET ?\n",
      "2018-11-18 20:18:43,215 INFO sqlalchemy.engine.base.Engine ('Black Malt', 1, 0)\n"
     ]
    },
    {
     "data": {
      "text/plain": [
       "{'_sa_instance_state': <sqlalchemy.orm.state.InstanceState at 0x1a2256de80>,\n",
       " 'categoryDisplay': 'Malts, Grains & Fermentables',\n",
       " 'name': 'Black Malt',\n",
       " 'id': 141,\n",
       " 'category': 'malt',\n",
       " 'ingredientcode': 247,\n",
       " 'beers': []}"
      ]
     },
     "execution_count": 14,
     "metadata": {},
     "output_type": "execute_result"
    }
   ],
   "source": [
    "db.session.query(Ingredient.name).all()\n",
    "ing1=db.session.query(Ingredient).filter(Ingredient.name == \"Black Malt\").first()\n",
    "vars(ing1)\n",
    "# ing1.beers\n",
    "# vars(ing1)"
   ]
  },
  {
   "cell_type": "code",
   "execution_count": 53,
   "metadata": {},
   "outputs": [
    {
     "name": "stdout",
     "output_type": "stream",
     "text": [
      "2018-11-18 16:53:14,653 INFO sqlalchemy.engine.base.Engine SELECT beers.description AS beers_description \n",
      "FROM beers JOIN styles ON styles.id = beers.style_id \n",
      "WHERE styles.\"shortName\" = ? AND beers.description IS NOT NULL\n",
      "2018-11-18 16:53:14,654 INFO sqlalchemy.engine.base.Engine ('American Stout',)\n"
     ]
    },
    {
     "data": {
      "text/plain": [
       "[('Dark', 23),\n",
       " ('Chocolate', 23),\n",
       " ('Roasted', 19),\n",
       " ('Coffee', 16),\n",
       " ('Rich', 14),\n",
       " ('Malt', 13),\n",
       " ('Flavor', 10),\n",
       " ('Notes', 10),\n",
       " ('Hops', 10),\n",
       " ('Black', 10),\n",
       " ('Dry', 9),\n",
       " ('Caramel', 8),\n",
       " ('Balanced', 8),\n",
       " ('Malts', 7),\n",
       " ('Ale', 7),\n",
       " ('Creamy', 7),\n",
       " ('Oatmeal', 6),\n",
       " ('Aroma', 6),\n",
       " ('Smooth', 6),\n",
       " ('Finish', 6)]"
      ]
     },
     "execution_count": 53,
     "metadata": {},
     "output_type": "execute_result"
    }
   ],
   "source": [
    "def count_key_words(shortName):\n",
    "    if len([word for word in shortName.split()]) > 1:\n",
    "        exclude_words = [shortName.split()[0].lower(), shortName.split()[1].lower(), \"beer\", \"brewed\", \"ale\", \"brew\"]\n",
    "        mynewtext = [w.title() for w in desc_to_string(shortName) if w not in stopwords if w not in exclude_words]\n",
    "        fdist1 = nltk.FreqDist(mynewtext)\n",
    "        return fdist1.most_common(20)\n",
    "    else: \n",
    "        exclude_words = [shortName.lower(), \"beer\", \"brewed\", \"ale\", \"brew\"]\n",
    "        mynewtext = [w.title() for w in desc_to_string(shortName) if w not in stopwords if w not in exclude_words]\n",
    "        fdist1 = nltk.FreqDist(mynewtext)\n",
    "        return fdist1.most_common(20)\n",
    "\n",
    "count_key_words('American Stout')"
   ]
  },
  {
   "cell_type": "code",
   "execution_count": 59,
   "metadata": {},
   "outputs": [
    {
     "name": "stdout",
     "output_type": "stream",
     "text": [
      "2018-11-18 17:40:33,262 INFO sqlalchemy.engine.base.Engine SELECT beers.id AS beers_id, beers.beercode AS beers_beercode, beers.name AS beers_name, beers.\"nameDisplay\" AS \"beers_nameDisplay\", beers.description AS beers_description, beers.abv AS beers_abv, beers.ibu AS beers_ibu, beers.\"isOrganic\" AS \"beers_isOrganic\", beers.\"foodPairings\" AS \"beers_foodPairings\", beers.style AS beers_style, beers.style_id AS beers_style_id \n",
      "FROM beers JOIN styles ON styles.id = beers.style_id \n",
      "WHERE styles.\"shortName\" = ?\n",
      "2018-11-18 17:40:33,264 INFO sqlalchemy.engine.base.Engine ('Brown Porter',)\n"
     ]
    },
    {
     "data": {
      "text/plain": [
       "55"
      ]
     },
     "execution_count": 59,
     "metadata": {},
     "output_type": "execute_result"
    }
   ],
   "source": [
    "len(db.session.query(Beer).join(Style).filter(Style.shortName == \"Brown Porter\").all())"
   ]
  },
  {
   "cell_type": "code",
   "execution_count": 60,
   "metadata": {},
   "outputs": [],
   "source": [
    "def count_beers_in_style(shortName):\n",
    "    name = db.session.query(Style.shortName).filter(Style.shortName == shortname).first()[0]\n",
    "    num_beers = len(db.session.query(Beer).join(Style).filter(Style.shortName == \"shor\").all())\n",
    "    return f\"{num_beers} {name}-style beers analyzed\""
   ]
  },
  {
   "cell_type": "code",
   "execution_count": 61,
   "metadata": {},
   "outputs": [
    {
     "name": "stdout",
     "output_type": "stream",
     "text": [
      "2018-11-18 18:22:18,861 INFO sqlalchemy.engine.base.Engine SELECT styles.\"shortName\" AS \"styles_shortName\" \n",
      "FROM styles \n",
      "WHERE styles.\"shortName\" = ?\n",
      " LIMIT ? OFFSET ?\n",
      "2018-11-18 18:22:18,862 INFO sqlalchemy.engine.base.Engine ('American Stout', 1, 0)\n",
      "2018-11-18 18:22:18,864 INFO sqlalchemy.engine.base.Engine SELECT beers.id AS beers_id, beers.beercode AS beers_beercode, beers.name AS beers_name, beers.\"nameDisplay\" AS \"beers_nameDisplay\", beers.description AS beers_description, beers.abv AS beers_abv, beers.ibu AS beers_ibu, beers.\"isOrganic\" AS \"beers_isOrganic\", beers.\"foodPairings\" AS \"beers_foodPairings\", beers.style AS beers_style, beers.style_id AS beers_style_id \n",
      "FROM beers JOIN styles ON styles.id = beers.style_id \n",
      "WHERE styles.\"shortName\" = ?\n",
      "2018-11-18 18:22:18,865 INFO sqlalchemy.engine.base.Engine ('Brown Porter',)\n"
     ]
    },
    {
     "data": {
      "text/plain": [
       "'55 American Stout-style beers analyzed'"
      ]
     },
     "execution_count": 61,
     "metadata": {},
     "output_type": "execute_result"
    }
   ],
   "source": [
    "count_beers_in_style(\"Brown Porter\")"
   ]
  },
  {
   "cell_type": "code",
   "execution_count": null,
   "metadata": {},
   "outputs": [],
   "source": []
  }
 ],
 "metadata": {
  "kernelspec": {
   "display_name": "Python 3",
   "language": "python",
   "name": "python3"
  },
  "language_info": {
   "codemirror_mode": {
    "name": "ipython",
    "version": 3
   },
   "file_extension": ".py",
   "mimetype": "text/x-python",
   "name": "python",
   "nbconvert_exporter": "python",
   "pygments_lexer": "ipython3",
   "version": "3.7.0"
  }
 },
 "nbformat": 4,
 "nbformat_minor": 2
}
